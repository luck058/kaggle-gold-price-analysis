{
  "nbformat": 4,
  "nbformat_minor": 0,
  "metadata": {
    "colab": {
      "provenance": [],
      "authorship_tag": "ABX9TyN1fBEa66emaSkanp+CcFf9",
      "include_colab_link": true
    },
    "kernelspec": {
      "name": "python3",
      "display_name": "Python 3"
    },
    "language_info": {
      "name": "python"
    }
  },
  "cells": [
    {
      "cell_type": "markdown",
      "metadata": {
        "id": "view-in-github",
        "colab_type": "text"
      },
      "source": [
        "<a href=\"https://colab.research.google.com/github/luck058/kaggle-gold-price-analysis/blob/model-1/test_notebook_1.ipynb\" target=\"_parent\"><img src=\"https://colab.research.google.com/assets/colab-badge.svg\" alt=\"Open In Colab\"/></a>"
      ]
    },
    {
      "cell_type": "code",
      "execution_count": 1,
      "metadata": {
        "colab": {
          "base_uri": "https://localhost:8080/"
        },
        "id": "QBV9K97Oz04h",
        "outputId": "f0ec4f0b-47ac-458e-d603-0498d34bdd68"
      },
      "outputs": [
        {
          "output_type": "stream",
          "name": "stdout",
          "text": [
            "Cloning into 'kaggle-gold-price-analysis'...\n",
            "remote: Enumerating objects: 84, done.\u001b[K\n",
            "remote: Counting objects: 100% (84/84), done.\u001b[K\n",
            "remote: Compressing objects: 100% (77/77), done.\u001b[K\n",
            "remote: Total 84 (delta 42), reused 19 (delta 5), pack-reused 0 (from 0)\u001b[K\n",
            "Receiving objects: 100% (84/84), 1.33 MiB | 3.87 MiB/s, done.\n",
            "Resolving deltas: 100% (42/42), done.\n",
            "/content/kaggle-gold-price-analysis\n"
          ]
        }
      ],
      "source": [
        "!git clone -b model-1 https://github.com/luck058/kaggle-gold-price-analysis/\n",
        "\n",
        "%cd kaggle-gold-price-analysis"
      ]
    },
    {
      "cell_type": "code",
      "source": [
        "def test_function():\n",
        "    return \"This is a test function\""
      ],
      "metadata": {
        "id": "hsgxmcCS0P4L"
      },
      "execution_count": null,
      "outputs": []
    },
    {
      "cell_type": "code",
      "source": [
        "def test_function2():\n",
        "    return \"This is a second test function\""
      ],
      "metadata": {
        "id": "i6yQM2IX0V-R"
      },
      "execution_count": null,
      "outputs": []
    },
    {
      "cell_type": "code",
      "source": [
        "result = test_function"
      ],
      "metadata": {
        "id": "4GIO2q060NDn"
      },
      "execution_count": null,
      "outputs": []
    },
    {
      "cell_type": "code",
      "source": [
        "test_function2()"
      ],
      "metadata": {
        "id": "Ml17HYwK0Xgr"
      },
      "execution_count": null,
      "outputs": []
    }
  ]
}