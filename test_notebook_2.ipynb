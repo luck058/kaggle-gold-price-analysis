{
  "nbformat": 4,
  "nbformat_minor": 0,
  "metadata": {
    "colab": {
      "provenance": [],
      "authorship_tag": "ABX9TyN1Jh/0VXftof7byXriYgVv",
      "include_colab_link": true
    },
    "kernelspec": {
      "name": "python3",
      "display_name": "Python 3"
    },
    "language_info": {
      "name": "python"
    }
  },
  "cells": [
    {
      "cell_type": "markdown",
      "metadata": {
        "id": "view-in-github",
        "colab_type": "text"
      },
      "source": [
        "<a href=\"https://colab.research.google.com/github/luck058/kaggle-gold-price-analysis/blob/model-1/test_notebook_2.ipynb\" target=\"_parent\"><img src=\"https://colab.research.google.com/assets/colab-badge.svg\" alt=\"Open In Colab\"/></a>"
      ]
    },
    {
      "cell_type": "code",
      "execution_count": 1,
      "metadata": {
        "id": "a3X6IMPCwjfI",
        "outputId": "462a0b69-4eda-4b32-c72b-493419592a17",
        "colab": {
          "base_uri": "https://localhost:8080/"
        }
      },
      "outputs": [
        {
          "output_type": "stream",
          "name": "stdout",
          "text": [
            "fatal: destination path 'kaggle-gold-price-analysis' already exists and is not an empty directory.\n",
            "/content/kaggle-gold-price-analysis\n"
          ]
        }
      ],
      "source": [
        "!git clone -b model-1 https://github.com/luck058/kaggle-gold-price-analysis/\n",
        "\n",
        "%cd kaggle-gold-price-analysis"
      ]
    },
    {
      "cell_type": "code",
      "source": [
        "def test_function():\n",
        "    print(\"This is defined in notebook 2\")"
      ],
      "metadata": {
        "id": "fFDlxzo31ZtC"
      },
      "execution_count": 2,
      "outputs": []
    },
    {
      "cell_type": "code",
      "source": [
        "%run test_notebook_1.ipynb\n",
        "print(test_function())"
      ],
      "metadata": {
        "id": "382tAB-30rcy",
        "outputId": "0b012fa7-376b-485c-9bba-7c3d15f03b9f",
        "colab": {
          "base_uri": "https://localhost:8080/"
        }
      },
      "execution_count": 3,
      "outputs": [
        {
          "output_type": "stream",
          "name": "stdout",
          "text": [
            "fatal: destination path 'kaggle-gold-price-analysis' already exists and is not an empty directory.\n",
            "/content/kaggle-gold-price-analysis/kaggle-gold-price-analysis\n",
            "This is a test function\n"
          ]
        }
      ]
    },
    {
      "cell_type": "code",
      "source": [],
      "metadata": {
        "id": "id6Fzxp31a9F"
      },
      "execution_count": 3,
      "outputs": []
    }
  ]
}